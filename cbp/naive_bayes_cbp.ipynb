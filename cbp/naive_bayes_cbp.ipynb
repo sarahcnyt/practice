{
 "metadata": {
  "name": "",
  "signature": "sha256:05619dd99ad63260d87799e9fa69daaff25fcf549d948274992198f7070b3416"
 },
 "nbformat": 3,
 "nbformat_minor": 0,
 "worksheets": [
  {
   "cells": [
    {
     "cell_type": "code",
     "collapsed": false,
     "input": [
      "\n",
      "import re\n",
      "from nltk.corpus import stopwords\n",
      "import nltk\n",
      "from random import shuffle\n",
      "\n",
      "\n",
      "#need to get the list of all words I care about in the whole training (?) set.\n",
      "infile = open('cbp_trained.tsv', 'r')\n",
      "word_list = []\n",
      "doc_list = []"
     ],
     "language": "python",
     "metadata": {},
     "outputs": [],
     "prompt_number": 1
    },
    {
     "cell_type": "markdown",
     "metadata": {},
     "source": [
      "Two definitions -- one is to remove the stopwords from each document (record), the other is to set up the feature set that is a dictionary where each word in the corpus is tested against the current document, resulting in {\"word1\": false, \"word2\":true} etc.\n",
      "\n",
      "The badwords in this case keep on and off because I care about on- and off-duty."
     ]
    },
    {
     "cell_type": "code",
     "collapsed": false,
     "input": [
      "\n",
      "def remove_stopwords(tkns, badwords):\n",
      "   tkns = [w.lower() for w in tkns if len(w.strip())> 1]\n",
      "   no_stopwords = [w for w in tkns if w.lower() not in badwords ]\n",
      "   return no_stopwords\n",
      "\n",
      "\n",
      "def doc_features(doc):\n",
      "   doc_words = set(doc)\n",
      "   features = {}\n",
      "   for w in word_list:\n",
      "      features['%s' % w ] = (w in doc_words)\n",
      "   return features\n",
      "\n",
      "#define universal stopwords.\n",
      "badwords = [w for w in stopwords.words('english') if w not in ('on', 'off')]"
     ],
     "language": "python",
     "metadata": {},
     "outputs": [],
     "prompt_number": 2
    },
    {
     "cell_type": "markdown",
     "metadata": {},
     "source": [
      "\n",
      "I coded 1500 of about 15,000 records.\n",
      "\n"
     ]
    },
    {
     "cell_type": "code",
     "collapsed": false,
     "input": [
      "for l in infile:\n",
      "   fields = re.split(r'\\t', l)\n",
      "   if fields[0] == 'id':\n",
      "      continue\n",
      "\n",
      "   tokens = re.split(r'[\\s\\n\\()\\.,\"]+', fields[9].strip())\n",
      "   trimmed_tokens = remove_stopwords(tokens, badwords)\n",
      "   category = fields[10]\n",
      "   \n",
      "    \n",
      "   #add each word to the full list.\n",
      "   word_list.extend(trimmed_tokens)\n",
      "\n",
      "   #get the features for this record / doc\n",
      "   #this adds a tuple to the list of docs, containing the words as a list and the category as a string.\n",
      "   doc_list.append((trimmed_tokens,category, fields[9]))\n",
      "\n",
      "\n",
      "#randomly order the documents to pull a training, test set from.\n",
      "#this includes an extra field, the original phrase, so that I can see what it was. \n",
      "shuffle(doc_list)\n",
      "\n",
      "#print the first full record of the shuffled one.\n",
      "print doc_list[0]\n",
      "print len(doc_list)\n"
     ],
     "language": "python",
     "metadata": {},
     "outputs": [
      {
       "output_type": "stream",
       "stream": "stdout",
       "text": [
        "(['cbpo', 'allegedly', 'facilitates', 'entry', 'udas', 'douglas', 'az'], 'Misconduct', 'CBPO allegedly facilitates the entry of UDAs into the U.S. Douglas, AZ')\n",
        "1500\n"
       ]
      }
     ],
     "prompt_number": 3
    },
    {
     "cell_type": "markdown",
     "metadata": {},
     "source": [
      "## category frequency ##\n",
      "\n",
      "how often do the different labels get applied? Maybe this is too many categories without enough difference, esp. between discipline and misconduct. Hard to tell those two apart by hand. \n"
     ]
    },
    {
     "cell_type": "code",
     "collapsed": false,
     "input": [
      "import numpy as np\n",
      "import matplotlib.pyplot as plt \n",
      "%matplotlib inline\n",
      "\n",
      "categories = [x[1] for x in doc_list]\n",
      "#how many each? \n",
      "d = {x:categories.count(x) for x in categories}\n",
      "\n",
      "yval = d.keys()\n",
      "ypos = np.arange(len(yval))\n",
      "xval = d.values()\n",
      "\n",
      "plt.barh(ypos, xval, align='center')\n",
      "plt.yticks(ypos, yval)\n",
      "plt.show()\n"
     ],
     "language": "python",
     "metadata": {},
     "outputs": [
      {
       "metadata": {},
       "output_type": "display_data",
       "png": "[encoded data removed]",
       "text": [
        "<matplotlib.figure.Figure at 0x92065f0>"
       ]
      }
     ],
     "prompt_number": 4
    },
    {
     "cell_type": "markdown",
     "metadata": {},
     "source": [
      "## best way?? ##\n",
      "\n",
      "This is from the book, and just takes the most frequent words. Is this where I'd do something like a tf-idf, or set other features that I know I care about? \n"
     ]
    },
    {
     "cell_type": "code",
     "collapsed": false,
     "input": [
      "#now get the words I care about. It's already randomly ordered. Keep top 2000\n",
      "all_words = nltk.FreqDist(w for w in word_list)\n",
      "all_words\n"
     ],
     "language": "python",
     "metadata": {},
     "outputs": [
      {
       "metadata": {},
       "output_type": "pyout",
       "prompt_number": 5,
       "text": [
        "<FreqDist with 2547 samples and 11697 outcomes>"
       ]
      }
     ],
     "prompt_number": 5
    },
    {
     "cell_type": "markdown",
     "metadata": {},
     "source": [
      "\n",
      "There are 2547 words, with 11697 items. I think to speed things up I'll only use 1,000 instead of 2,000 words. \n"
     ]
    },
    {
     "cell_type": "code",
     "collapsed": false,
     "input": [
      "word_features = all_words.keys()[:1000]\n",
      "\n",
      "#this gets the dictionary of which words are in the row,\n",
      "#+ the category for each of the documents .\n",
      "#this has to come after going through all of the docs because\n",
      "#we don't have the full word list yet when we do it on the first pass.\n",
      "\n",
      "\n",
      "#I want to keep the original list of words for training, test and dev-test, so I'll just get the\n",
      "#features of the training set now.\n",
      "#I think the \"o\" has to be there because there are three elements in doc_list right now. \n",
      "\n",
      "train_set =[(doc_features(d), c) for (d,c, o) in doc_list[0:750]]\n",
      "print len(train_set)\n",
      "\n",
      "classifier = nltk.NaiveBayesClassifier.train(train_set)\n",
      "print \"Done creating the classifier\"\n"
     ],
     "language": "python",
     "metadata": {},
     "outputs": [
      {
       "output_type": "stream",
       "stream": "stdout",
       "text": [
        "750\n",
        "Done creating the classifier"
       ]
      },
      {
       "output_type": "stream",
       "stream": "stdout",
       "text": [
        "\n"
       ]
      }
     ],
     "prompt_number": 7
    },
    {
     "cell_type": "code",
     "collapsed": false,
     "input": [
      "classifier.show_most_informative_features(50)"
     ],
     "language": "python",
     "metadata": {},
     "outputs": [
      {
       "output_type": "stream",
       "stream": "stdout",
       "text": [
        "Most Informative Features\n",
        "                  weapon = True           Weapon : Discip =     43.1 : 1.0"
       ]
      },
      {
       "output_type": "stream",
       "stream": "stdout",
       "text": [
        "\n",
        "                     gov = True           Vehicl : Miscon =     39.0 : 1.0\n",
        "                arrested = True           Off-du : Discip =     37.6 : 1.0\n",
        "                 vehicle = True           Vehicl : Discip =     30.5 : 1.0\n",
        "               discharge = True           Weapon : Force  =     25.9 : 1.0\n",
        "               smuggling = True           Smuggl : Miscon =     24.0 : 1.0\n",
        "                 service = True           Weapon : Discip =     22.4 : 1.0\n",
        "                  struck = True           Vehicl : Discip =     21.9 : 1.0\n",
        "               narcotics = True           Smuggl : Miscon =     21.5 : 1.0\n",
        "                     uda = True            Force : Discip =     17.1 : 1.0\n",
        "             credentials = True           Lost e : Miscon =     16.4 : 1.0\n",
        "              checkpoint = True           Smuggl : Discip =     16.3 : 1.0\n",
        "                involved = True           Vehicl : Discip =     14.0 : 1.0\n",
        "                  issued = True           Lost e : Miscon =     13.0 : 1.0\n",
        "                reported = True           Lost e : Miscon =     13.0 : 1.0\n",
        "                   abuse = True            Force : Miscon =     12.6 : 1.0\n",
        "                     two = True           Weapon : Discip =     12.3 : 1.0\n",
        "                  border = True           Associ : Discip =     11.8 : 1.0\n",
        "                smuggler = True           Smuggl : Force  =     11.5 : 1.0\n",
        "                   round = True           Weapon : Discip =     11.4 : 1.0\n",
        "                 conduct = True           Miscon : Discip =     11.1 : 1.0\n",
        "                     one = True           Weapon : Miscon =     11.0 : 1.0\n",
        "                   rifle = True           Weapon : Miscon =     11.0 : 1.0\n",
        "                    bpas = True            Force : Discip =     10.9 : 1.0\n",
        "                injuries = True           Weapon : Off-du =     10.9 : 1.0\n",
        "            apprehension = True            Force : Miscon =     10.6 : 1.0\n",
        "                 related = True           Smuggl : Discip =     10.4 : 1.0\n",
        "                  female = True           Smuggl : Discip =     10.4 : 1.0\n",
        "                    paso = True           Associ : Discip =     10.0 : 1.0\n",
        "                detainee = True            Force : Miscon =      9.6 : 1.0\n",
        "                      pd = True           Off-du : Miscon =      9.0 : 1.0\n",
        "                      az = True           Weapon : Vehicl =      8.9 : 1.0\n",
        "              reportedly = True           Off-du : Discip =      8.4 : 1.0\n",
        "                 unknown = True           Smuggl : Miscon =      8.3 : 1.0\n",
        "              inspection = True           Miscon : Discip =      8.2 : 1.0\n",
        "            relationship = True           Associ : Discip =      8.1 : 1.0\n",
        "                  patrol = True           Associ : Discip =      8.1 : 1.0\n",
        "                    drug = True           Associ : Discip =      8.1 : 1.0\n",
        "                     may = True           Associ : Miscon =      8.1 : 1.0\n",
        "               assaulted = True            Force : Discip =      8.0 : 1.0\n",
        "                 subject = True           Weapon : Vehicl =      8.0 : 1.0\n",
        "                  laredo = True           Weapon : Vehicl =      8.0 : 1.0\n",
        "                   rocks = True           Weapon : Vehicl =      8.0 : 1.0\n",
        "                     m-4 = True           Weapon : Miscon =      7.8 : 1.0\n",
        "              attempting = True           Weapon : Miscon =      7.8 : 1.0\n",
        "                      bp = True           Weapon : Miscon =      7.8 : 1.0\n",
        "                    duty = True           Vehicl : Miscon =      7.8 : 1.0\n",
        "                      tx = True           Smuggl : Vehicl =      7.5 : 1.0\n",
        "               marijuana = True           Smuggl : Discip =      7.4 : 1.0\n",
        "            facilitating = True           Smuggl : Miscon =      7.2 : 1.0\n"
       ]
      }
     ],
     "prompt_number": 8
    },
    {
     "cell_type": "markdown",
     "metadata": {},
     "source": [
      "## Apply to the test ##\n",
      "\n",
      "Now that we're done training the classifier, we can see how well it does on a set of data that I put aside for testing. This next step takes a long time for some reason -- about a minute. "
     ]
    },
    {
     "cell_type": "code",
     "collapsed": false,
     "input": [
      "classifier.labels()"
     ],
     "language": "python",
     "metadata": {},
     "outputs": [
      {
       "metadata": {},
       "output_type": "pyout",
       "prompt_number": 9,
       "text": [
        "['Discipline',\n",
        " 'Misconduct',\n",
        " 'Vehicle',\n",
        " 'Force',\n",
        " 'Off-duty',\n",
        " 'Lost equipment / badges',\n",
        " 'Association',\n",
        " 'Smuggling',\n",
        " 'Weapon discharge']"
       ]
      }
     ],
     "prompt_number": 9
    },
    {
     "cell_type": "code",
     "collapsed": false,
     "input": [
      "test_min = 751\n",
      "test_max = 1500\n",
      "\n",
      "devtest_set =  [(doc_features(d),c) for (d,c, o) in doc_list[test_min:test_max]]\n",
      "orig_fortest = doc_list[test_min:test_max]"
     ],
     "language": "python",
     "metadata": {},
     "outputs": [],
     "prompt_number": 10
    },
    {
     "cell_type": "code",
     "collapsed": false,
     "input": [
      "#so devtest_set[0] will be the features, 1 will be the real classification\n",
      "nltk.classify.accuracy(classifier, devtest_set)"
     ],
     "language": "python",
     "metadata": {},
     "outputs": [
      {
       "metadata": {},
       "output_type": "pyout",
       "prompt_number": 11,
       "text": [
        "0.3644859813084112"
       ]
      }
     ],
     "prompt_number": 11
    },
    {
     "cell_type": "markdown",
     "metadata": {},
     "source": [
      "## accuracy ##\n",
      "\n",
      "this answer changes each time, since we have a random shuffle. But using 1/2 of the data, it goes between about 35 and 45 percent.  I think the problem is twofold: first, there are some that have obvious keywords, but are not that common. For example, if \"DUI\" or \"domestic\" shows up, it's going to be off-duty; if \"accident\" and \"GOV\" show up, it's (almost) always on-duty accident; if \"sister\" or any other relative, it's association. But these aren't that common because the misconduct and the disciplinary actions overwhelm them? \n",
      "\n",
      "Second: I wonder if it would be better if I just tried to distinguish the categories I really care about from everything else? Would that be any better than simple keyword searching? \n"
     ]
    },
    {
     "cell_type": "code",
     "collapsed": false,
     "input": [
      "#want to add in the original phrase, not just the sorted words. \n",
      "guesses = []\n",
      "for i, d in enumerate(doc_list[test_min:test_max]):\n",
      "    orig = d[2]\n",
      "    tag  = d[1]\n",
      "    words = d[0]\n",
      "    \n",
      "    guess=classifier.classify(doc_features(words))\n",
      "    guesses.append((tag, guess, words, orig))\n"
     ],
     "language": "python",
     "metadata": {},
     "outputs": [],
     "prompt_number": 12
    },
    {
     "cell_type": "markdown",
     "metadata": {},
     "source": [
      "## time hog ##\n",
      "\n",
      "With just 750 to classify, it takes about 2 minutes. What will happen with the other 13,000? "
     ]
    },
    {
     "cell_type": "code",
     "collapsed": false,
     "input": [
      "f = open('guesses.txt', 'w')\n",
      "\n",
      "for g in guesses:\n",
      "    out = g[0]+\"\\t\"+g[1]+\"\\t\"+g[3]+\"\\n\"\n",
      "    f.write(out)\n",
      "\n",
      "f.close()"
     ],
     "language": "python",
     "metadata": {},
     "outputs": [],
     "prompt_number": 14
    },
    {
     "cell_type": "code",
     "collapsed": false,
     "input": [],
     "language": "python",
     "metadata": {},
     "outputs": []
    }
   ],
   "metadata": {}
  }
 ]
}